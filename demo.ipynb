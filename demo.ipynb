{
 "cells": [
  {
   "cell_type": "code",
   "execution_count": 1,
   "metadata": {},
   "outputs": [
    {
     "name": "stdout",
     "output_type": "stream",
     "text": [
      "Cloning into 'wildfire_CD1'...\n",
      "remote: Enumerating objects: 62, done.\u001b[K\n",
      "remote: Counting objects: 100% (62/62), done.\u001b[K\n",
      "remote: Compressing objects: 100% (58/58), done.\u001b[K\n",
      "remote: Total 62 (delta 24), reused 0 (delta 0), pack-reused 0\u001b[K\n",
      "Unpacking objects: 100% (62/62), 30.74 KiB | 1.40 MiB/s, done.\n"
     ]
    }
   ],
   "source": [
    "!git clone https://github.com/co1dtype/wildfire_CD1.git"
   ]
  },
  {
   "cell_type": "code",
   "execution_count": 1,
   "metadata": {},
   "outputs": [
    {
     "name": "stdout",
     "output_type": "stream",
     "text": [
      "/home/hyj/ChanHyung/Image_segementation/WildFire_Detection/wildfire_CD1\n",
      "Traceback (most recent call last):\n",
      "  File \"/home/hyj/ChanHyung/Image_segementation/WildFire_Detection/wildfire_CD1/train.py\", line 6, in <module>\n",
      "    from modules.trainer import LightningModel\n",
      "  File \"/home/hyj/ChanHyung/Image_segementation/WildFire_Detection/wildfire_CD1/modules/trainer.py\", line 8, in <module>\n",
      "    from modules.optimizers import get_optimizer\n",
      "ModuleNotFoundError: No module named 'modules.optimizers'\n"
     ]
    }
   ],
   "source": [
    "%cd wildfire_CD1\n",
    "!python train.py"
   ]
  }
 ],
 "metadata": {
  "kernelspec": {
   "display_name": "cHb_ML",
   "language": "python",
   "name": "python3"
  },
  "language_info": {
   "codemirror_mode": {
    "name": "ipython",
    "version": 3
   },
   "file_extension": ".py",
   "mimetype": "text/x-python",
   "name": "python",
   "nbconvert_exporter": "python",
   "pygments_lexer": "ipython3",
   "version": "3.11.9"
  }
 },
 "nbformat": 4,
 "nbformat_minor": 2
}
